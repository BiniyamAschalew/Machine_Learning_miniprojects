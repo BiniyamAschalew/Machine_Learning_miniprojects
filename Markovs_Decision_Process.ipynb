{
  "cells": [
    {
      "cell_type": "markdown",
      "source": [
        "# CS470 Assignment 3\n",
        "In this assignment, we will first design a **Markov Decision Process (MDP)** for a *gridworld* environment. Then, on top of it, we implement and run **dynamic programming (DP)** approaches. Note that you must run this file on **Google Chrome**, otherwise you may not be able to play recorded videos."
      ],
      "metadata": {
        "id": "L96B5Ed06r8V"
      }
    },
    {
      "cell_type": "markdown",
      "source": [
        "# Requirements for initialization\n",
        "We will first install dependencies and declare auxiliary functions for visualization"
      ],
      "metadata": {
        "id": "tHYpkF-KbM1n"
      }
    },
    {
      "cell_type": "code",
      "execution_count": 6,
      "metadata": {
        "id": "hMLNlciUp9y1",
        "cellView": "form"
      },
      "outputs": [],
      "source": [
        "#@title Run the cell below to install dependencies\n",
        "\n",
        "  ##################################################################\n",
        "  ###################                             ##################\n",
        "  ###################   DO NOT MODIFY THIS CELL   ##################\n",
        "  ###################                             ##################\n",
        "  ##################################################################\n",
        "\n",
        "#Install dependencies to visualize agents \n",
        "!pip install pyglet==1.5.1  &> /dev/null\n",
        "!apt install -y python-opengl ffmpeg xvfb &> /dev/null\n",
        "!pip install pyvirtualdisplay &> /dev/null\n",
        "!pip install gym==0.23.0 &> /dev/null \n",
        "# !pip install pygame &> /dev/null\n",
        "!pip install numpy &> /dev/null\n",
        "\n",
        "# !pip install huggingface_hub &> /dev/null\n",
        "!pip install pickle5 &> /dev/null\n",
        "!pip install pyyaml==6.0 &> /dev/null \n",
        "!pip install imageio imageio_ffmpeg &> /dev/null\n",
        "\n",
        "!apt-get install -y python x11-utils &> /dev/null\n",
        "!pip install scikit-video ffio pyrender &> /dev/null\n",
        "# !pip install tensorflow_probability==0.12.0 &> /dev/null\n",
        "\n",
        "import numpy as np\n",
        "import gym\n",
        "from gym import error, spaces, utils\n",
        "from gym.utils import seeding\n",
        "\n",
        "import imageio, random, copy\n",
        "import sys, time, os, base64, io\n",
        "os.environ['PYOPENGL_PLATFORM'] = 'egl'\n",
        "\n",
        "import IPython, functools, matplotlib, cv2\n",
        "import matplotlib.pyplot as plt\n",
        "from PIL import Image as Image\n",
        "from tqdm import tqdm\n",
        "\n",
        "from IPython.display import HTML"
      ]
    },
    {
      "cell_type": "code",
      "source": [
        "#@title Run the cell below to declare auxiliary functions\n",
        "\n",
        "  ##################################################################\n",
        "  ###################                             ##################\n",
        "  ###################   DO NOT MODIFY THIS CELL   ##################\n",
        "  ###################                             ##################\n",
        "  ##################################################################\n",
        "\n",
        "from IPython.display import HTML\n",
        "def eval_policy(env, policy=None, num_episodes=10):\n",
        "    \"\"\"Evaluate a model (i.e., policy) running on the input environment\"\"\"\n",
        "    # env = gym.make(env_name)\n",
        "    obs = env.reset()\n",
        "    prev_obs = obs\n",
        "    counter = 0\n",
        "    done = False\n",
        "    num_runs = 0\n",
        "    episode_reward = 0\n",
        "    episode_rewards = []\n",
        "    while num_runs < num_episodes:\n",
        "        if policy is not None:\n",
        "            action = policy(obs)\n",
        "        else:\n",
        "            action = env.action_space.sample()\n",
        "        \n",
        "        prev_obs = obs\n",
        "        obs, reward, done, info = env.step(action)\n",
        "        counter += 1\n",
        "        episode_reward += reward\n",
        "        if done:\n",
        "            num_runs += 1\n",
        "            obs = env.reset()\n",
        "            episode_rewards.append(episode_reward)\n",
        "            episode_reward = 0\n",
        "    return episode_rewards\n",
        "\n",
        "def save_video_of_model(env_name, model=None, suffix=\"\", num_episodes=10):\n",
        "    \"\"\"\n",
        "    Record a video that shows the behavior of an agent following a model \n",
        "    (i.e., policy) on the input environment\n",
        "    \"\"\"\n",
        "    import skvideo.io\n",
        "    from pyvirtualdisplay import Display\n",
        "    display = Display(visible=0, size=(400, 300))\n",
        "    display.start()\n",
        "\n",
        "    env = gym.make(env_name)\n",
        "    obs = env.reset()\n",
        "    prev_obs = obs\n",
        "\n",
        "    filename = env_name + suffix + \".mp4\"\n",
        "    output_video = skvideo.io.FFmpegWriter(filename)\n",
        "\n",
        "    counter = 0\n",
        "    done = False\n",
        "    num_runs = 0\n",
        "    returns = 0\n",
        "    while num_runs < num_episodes:\n",
        "        frame = env.render(mode='rgb_array')\n",
        "        output_video.writeFrame(frame)\n",
        "\n",
        "        if \"Gridworld\" in env_name:\n",
        "            input_obs = obs\n",
        "        else:\n",
        "            raise ValueError(f\"Unknown env for saving: {env_name}\")\n",
        "\n",
        "        if model is not None:\n",
        "            action = model(input_obs)\n",
        "        else:\n",
        "            action = env.action_space.sample()\n",
        "\n",
        "\n",
        "        prev_obs = obs\n",
        "        obs, reward, done, info = env.step(action)\n",
        "        counter += 1\n",
        "        returns += reward\n",
        "        if done:\n",
        "            num_runs += 1\n",
        "            obs = env.reset()\n",
        "\n",
        "    output_video.close()\n",
        "    print(\"Successfully saved {} frames into {}!\".format(counter, filename))\n",
        "    return filename, returns / num_runs\n",
        "\n",
        "def play_video(filename, width=None):\n",
        "    \"\"\"Play the input video\"\"\"\n",
        "\n",
        "    from base64 import b64encode\n",
        "    mp4 = open(filename,'rb').read()\n",
        "    data_url = \"data:video/mp4;base64,\" + b64encode(mp4).decode()\n",
        "    html = \"\"\"\n",
        "    <video width=400 controls>\n",
        "          <source src=\"%s\" type=\"video/mp4\">\n",
        "    </video>\n",
        "    \"\"\" % data_url\n",
        "    return  html\n",
        "\n",
        "\n",
        "def render_value_map_with_action(env, Q, policy=None):\n",
        "    '''\n",
        "    Render a state (or action) value grid map.\n",
        "    V[s] = max(Q[s,a])\n",
        "    '''\n",
        "    Q = Q.copy()\n",
        "    from matplotlib.colors import LinearSegmentedColormap\n",
        "    n = env.grid_map_shape[0]\n",
        "    m = env.grid_map_shape[1]\n",
        "    if len(np.shape(Q))>1:\n",
        "        V = np.amax(Q, axis=1) \n",
        "        V = V.reshape((n,m))\n",
        "    else:\n",
        "        V = Q.reshape((n,m))\n",
        "    import itertools\n",
        "    symbol = ['.', '^','v', '<', '>']\n",
        "    x = range(0, env.grid_map_shape[0]+1)\n",
        "    y = range(0, env.grid_map_shape[1]+1)\n",
        "\n",
        "    min_val = V[0,0]\n",
        "    obstacles = np.zeros([n,m])\n",
        "    for obstacle in env.obstacles:\n",
        "        posx = obstacle // env.grid_map_shape[1]\n",
        "        posy = obstacle % env.grid_map_shape[1]\n",
        "        V[posx, posy] = min_val\n",
        "        obstacles[posx, posy] = 1\n",
        "\n",
        "    plt.imshow(V, cmap='jet', interpolation='nearest')\n",
        "    for s in range(env.observation_space.n):\n",
        "        twod_state = env.serial_to_twod(s)\n",
        "        state_inds = s\n",
        "        best_action = policy(s)\n",
        "        plt.plot([twod_state[1]], [twod_state[0]], marker=symbol[best_action], linestyle='none', color='k')\n",
        "\n",
        "    dark_low = ((0., 1., 1.),\n",
        "            (.3, 1., 0.),\n",
        "            (1., 0., 0.))\n",
        "            \n",
        "    cdict = {'red':  dark_low,\n",
        "        'green': dark_low,\n",
        "        'blue': dark_low}\n",
        "\n",
        "    cdict3 = {'red':  dark_low,\n",
        "        'green': dark_low,\n",
        "        'blue': dark_low,\n",
        "        'alpha': ((0.0, 0.0, 0.0),\n",
        "                  (0.3, 0.0, 1.0),\n",
        "                  (1.0, 1.0, 1.0))\n",
        "        }\n",
        "    dropout_high = LinearSegmentedColormap('Dropout', cdict3)\n",
        "    plt.imshow(obstacles, cmap = dropout_high)\n",
        "    plt.show()\n",
        "\n",
        "def collect_traj(env, policy=None, num_episodes=10):\n",
        "    \"\"\"Collect trajectories (rollouts) following the input policy\"\"\"\n",
        "    obs = env.reset()\n",
        "    prev_obs = obs\n",
        "    done = False\n",
        "    num_runs = 0\n",
        "    episode_rewards = []\n",
        "    episode_reward = 0\n",
        "    traj = []\n",
        "    trajs = []\n",
        "\n",
        "    while num_runs < num_episodes:\n",
        "        input_obs = obs\n",
        "        if policy is not None:\n",
        "            action = policy(input_obs)\n",
        "        else:\n",
        "            action = env.action_space.sample()\n",
        "        traj.append(obs)\n",
        "        prev_obs = obs\n",
        "        obs, reward, done, info = env.step(action)\n",
        "        episode_reward += reward\n",
        "        if done:\n",
        "            num_runs += 1\n",
        "            trajs.append(traj)\n",
        "            traj = []\n",
        "            obs = env.reset()\n",
        "\n",
        "            episode_rewards.append(episode_reward)\n",
        "            episode_reward = 0\n",
        "    return trajs#, episode_rewards\n",
        "\n",
        "def plot_trajs(env, trajectories):\n",
        "    \"\"\"Plot the input trajectories\"\"\"\n",
        "    from matplotlib.colors import LinearSegmentedColormap\n",
        "    n = env.grid_map_shape[0]\n",
        "    m = env.grid_map_shape[1]\n",
        "    V = np.zeros([n,m])\n",
        "    obstacles = np.zeros([n,m])\n",
        "    for obstacle in env.obstacles:\n",
        "        posx = obstacle // env.grid_map_shape[1]\n",
        "        posy = obstacle % env.grid_map_shape[1]\n",
        "        obstacles[posx, posy] = 1\n",
        "    dark_low = ((0., 1., 1.),\n",
        "            (.3, 1., 0.),\n",
        "            (1., 0., 0.))\n",
        "    cdict = {'red':  dark_low,\n",
        "        'green': dark_low,\n",
        "        'blue': dark_low}\n",
        "    cdict3 = {'red':  dark_low,\n",
        "        'green': dark_low,\n",
        "        'blue': dark_low,\n",
        "        'alpha': ((0.0, 0.0, 0.0),\n",
        "                  (0.3, 0.0, 1.0),\n",
        "                  (1.0, 1.0, 1.0))\n",
        "        }\n",
        "    dropout_high = LinearSegmentedColormap('Dropout', cdict3)\n",
        "    plt.imshow(obstacles, cmap = dropout_high)\n",
        "    for trajectory in trajectories:\n",
        "        traj_2d = np.array([ env.serial_to_twod(s) for s in trajectory ])\n",
        "        y = traj_2d[:, 0]\n",
        "        x = traj_2d[:, 1]\n",
        "        plt.plot(x, y, alpha=0.1, color='r')\n",
        "    plt.show()"
      ],
      "metadata": {
        "id": "MfKdFRBd30bO",
        "cellView": "form"
      },
      "execution_count": 7,
      "outputs": []
    },
    {
      "cell_type": "markdown",
      "source": [
        "# Problem 1: Markov Decision Process\n",
        "In this problem, you design an MDP for a stochastic version of *grid-world* environment. You will implement *transition_model*, *compute_reward*, *is_done* and *step* functions following the rules defined in the assignment PDF."
      ],
      "metadata": {
        "id": "Moxb_9vubXU6"
      }
    },
    {
      "cell_type": "code",
      "source": [
        "  ##################################################################\n",
        "  ###################                             ##################\n",
        "  ###################   DO NOT MODIFY THIS CELL   ##################\n",
        "  ###################                             ##################\n",
        "  ##################################################################\n",
        "\n",
        "class BaseGridEnv(gym.Env):\n",
        "    metadata = {'render.modes': ['human', 'rgb_array']}\n",
        "    def __init__(self, size=[8,10], start=None ,epsilon=0.05, obstacle=None):\n",
        "        \"\"\"\n",
        "        An initialization function\n",
        "\n",
        "        Parameters\n",
        "        ----------\n",
        "        size: a list of integers\n",
        "            the dimension of 2D grid environment\n",
        "        start: integer\n",
        "            start state (i.e., location)\n",
        "        epsilon: float\n",
        "            the probability of taking random actions\n",
        "        obstacle: \n",
        "\n",
        "        \"\"\"\n",
        "        self.grid_map_shape = [size[0], size[1]]  # The size of the map\n",
        "        self.epsilon = epsilon  # action-failure probability\n",
        "        self.obstacles = obstacle   # list of states stating position of the obstacles\n",
        "        \n",
        "        ''' set observation space and action space '''\n",
        "        self.observation_space = spaces.Discrete( size[0] * size[1])\n",
        "        self.action_space = spaces.Discrete( 5 )\n",
        "    \n",
        "        self.start_state = 0\n",
        "        self.terminal_state = size[0] * size[1] - 1\n",
        "\n",
        "    def serial_to_twod(self, ind):\n",
        "        \"\"\"Convert a serialized state number to a 2D map's state coordinate\"\"\"\n",
        "        return np.array( [ ind // self.grid_map_shape[1], ind % self.grid_map_shape[1]])\n",
        "\n",
        "    def twod_to_serial(self, twod):\n",
        "        \"\"\"Convert a 2D map's state coordinate to a serialized state number\"\"\"\n",
        "        return np.array( twod[0]* self.grid_map_shape[1] + twod[1])\n",
        "\n",
        "    def reset(self):\n",
        "        \"\"\"Rest the environment by initializaing the start state \"\"\"\n",
        "        self.observation = self.start_state\n",
        "        return self.observation\n",
        "\n",
        "    def render(self, mode='human', close=False):\n",
        "        \"\"\"Render the agent state\"\"\"\n",
        "        pixel_size = 20\n",
        "        img = np.zeros([ pixel_size * self.grid_map_shape[0], pixel_size * self.grid_map_shape[1],3])\n",
        "        for obstacle in self.obstacles:\n",
        "          pos_x, pos_y = self.serial_to_twod(obstacle)\n",
        "          img[pixel_size*pos_x: pixel_size*(1+pos_x), pixel_size*pos_y: pixel_size*(1+pos_y)] += [255,0,0]\n",
        "        agent_state = self.serial_to_twod(self.observation)   \n",
        "        agent_target_state = self.serial_to_twod(self.terminal_state)\n",
        "        img[pixel_size*agent_state[0]: pixel_size*(1+agent_state[0]), pixel_size*agent_state[1]: pixel_size*(1+agent_state[1])] += [0,0,255]\n",
        "        img[pixel_size*agent_target_state[0]: pixel_size*(1+agent_target_state[0]), pixel_size*agent_target_state[1]: pixel_size*(1+agent_target_state[1])] += [0,255,0]\n",
        "        if mode == 'human':\n",
        "          fig = plt.figure(0)\n",
        "          plt.clf()\n",
        "          plt.imshow(img, cmap='gray')\n",
        "          fig.canvas.draw()\n",
        "          plt.pause(0.01)\n",
        "        if mode == 'rgb_array':\n",
        "          return img\n",
        "        return \n",
        "\n",
        "    def _close_env(self):\n",
        "        \"\"\"Close the environment screen\"\"\"\n",
        "        plt.close(1)\n",
        "        return\n"
      ],
      "metadata": {
        "id": "lGUcYuZ06x15"
      },
      "execution_count": 8,
      "outputs": []
    },
    {
      "cell_type": "code",
      "execution_count": 9,
      "metadata": {
        "id": "9ed3bkDS5Q3K"
      },
      "outputs": [],
      "source": [
        "class GridEnv(BaseGridEnv):\n",
        "    \"\"\"\n",
        "    A grid-world environment.\n",
        "    \"\"\"\n",
        "    def transition_model(self, state, action):\n",
        "        \"\"\"\n",
        "        A transition model that return a list of probabilities of transitions\n",
        "        to next states when the agent select 'action' at the 'state': T(s' | s,a)\n",
        "\n",
        "        In our envrionemnt, if the state is in obstacles or in a goal, \n",
        "        it will stay in its state at any action\n",
        "\n",
        "        Parameters\n",
        "        ----------        \n",
        "        state: integer\n",
        "            a serialized state index\n",
        "        action: integer\n",
        "            action index        \n",
        "\n",
        "        Returns\n",
        "        -------  \n",
        "        probs: numpy array with a length of {size of state space}\n",
        "            probabilities of transition to the next_state ...   \n",
        "\n",
        "\n",
        "        \"\"\"\n",
        "        if not isinstance(state, int):                                                     ####################################### the agent should not leave an obstacle or terminal state\n",
        "            state = state.item()\n",
        "        \n",
        "\n",
        "\n",
        "        # the transition probabilities to the next states\n",
        "        probs = np.zeros(self.observation_space.n)\n",
        "\n",
        "        # Left top is [0,0], \n",
        "        action_pos_dict = {0: [0,0], 1:[-1, 0], 2:[1,0], 3:[0,-1], 4:[0,1]}\n",
        "\n",
        "        \n",
        "        state_twod = np.array(self.serial_to_twod(state))\n",
        "        \n",
        "        #print(state_twod)\n",
        "        [h, w] = self.grid_map_shape\n",
        "\n",
        "        #state_domain = []\n",
        "\n",
        "        ###################################################################\n",
        "        #####################   PLACE YOUR CODE HERE   ####################\n",
        "        ###                                                             ###\n",
        "        ### Instruction                                                 ###\n",
        "        ### -----------                                                 ###\n",
        "        ### - You have to fill out the \"probs\" variable following the   ###\n",
        "        ###   the assignment-problem 1's transition model rules         ###        \n",
        "        ### - Hint: you have to find the next state based on the        ###\n",
        "        ###         available action at the current state               ###\n",
        "        ###\n",
        "        ### Example\n",
        "        ### --------\n",
        "        ### After some initializations...\n",
        "        ### for action in availabe actions:\n",
        "        ###     find a next state\n",
        "        ###     fill out probs[next state]\n",
        "\n",
        "        # First we check whethere or not the agent is at terminal location\n",
        "        # If it it at terminal location we set the probability to 1\n",
        "        if state == self.terminal_state or state in self.obstacles:\n",
        "          probs[state] = 1\n",
        "\n",
        "        # If we are not at a terminal location then we  will find the candidate arrays that the agent might move to\n",
        "        else:\n",
        "\n",
        "          for i in range(len(action_pos_dict)):    # Here, the list inside the dictionary action_pos_dict was converted to np arrray for ease of calculation\n",
        "            action2 = np.array(action_pos_dict[i]) # returns a numpy version of the action array [0, -1]\n",
        "            \n",
        "            cand = action2 + state_twod             # cand is a candidate numpy array for our agent to move onto\n",
        "            if np.sum(cand < 0) > 0:                # if cand has negative index, or too large of an index, it means it is out of the world we were given, so we set it to the current location\n",
        "              cand = state_twod             \n",
        "            if cand[0] > h - 1 or cand[1] > w - 1:\n",
        "              cand = state_twod\n",
        "        \n",
        "            serial = self.twod_to_serial(cand)\n",
        "            \n",
        "            if i == action:                           # for the action, that was deliberately chosen we have 1 - epsilon probability\n",
        "              probs[serial] += 1 - self.epsilon\n",
        "            else:\n",
        "              probs[serial] += self.epsilon/(len(action_pos_dict)-1)             # for the rest of possible actions we distribute epsilon uniformly\n",
        "        ###        \n",
        "        ###                                                             ###\n",
        "        ###                                                             ###\n",
        "        ###################################################################\n",
        "        ###################################################################\n",
        "\n",
        "        return probs\n",
        "\n",
        "\n",
        "    def compute_reward(self, state, action, next_state):\n",
        "        \"\"\"\n",
        "        A reward function that returns the total reward after selecting 'action'\n",
        "        at the 'state'. In this environment, \n",
        "        (a) If it reaches a goal state, it terminates returning a reward of +10\n",
        "        (b) If it reaches an obstacle, it terminates returning a penalty of -5\n",
        "        (c) For any action, it add a step penalty of -0.1\n",
        "\n",
        "        Parameters\n",
        "        ----------        \n",
        "        state: integer\n",
        "            a serialized state index\n",
        "        action: integer\n",
        "            action index         \n",
        "        next_state: integer\n",
        "            a serialized state index\n",
        "\n",
        "        Returns\n",
        "        -------  \n",
        "        reward: float\n",
        "            a total reward value\n",
        "        \"\"\"\n",
        "\n",
        "        reward = 0\n",
        "\n",
        "\n",
        "\n",
        "        \n",
        "\n",
        "        ###################################################################\n",
        "        #####################   PLACE YOUR CODE HERE   ####################\n",
        "        ###                                                             ###\n",
        "        ### Instruction                                                 ###\n",
        "        ### -----------                                                 ###\n",
        "        ### - fill out the reward variable                              ###\n",
        "\n",
        "        if state == self.terminal_state:                # reward should be 10 or -5 for terminal states and -0.1 for every step/action\n",
        "          reward += 10\n",
        "        elif state in self.obstacles:\n",
        "          reward -= 5\n",
        "        reward -= 0.1\n",
        "\n",
        "\n",
        "        ###                                                             ###\n",
        "        ###                                                             ###\n",
        "        ###                                                             ###\n",
        "        ###################################################################\n",
        "        ###################################################################\n",
        "        return reward\n",
        "    \n",
        "    def is_done(self, state, action, next_state):\n",
        "        \"\"\"\n",
        "        Return True when the agent is in a terminal state or obstacles, \n",
        "        otherwise return False\n",
        "\n",
        "        Parameters\n",
        "        ----------        \n",
        "        state: integer\n",
        "            a serialized state index\n",
        "        action: integer\n",
        "            action index         \n",
        "        next_state: integer\n",
        "            a serialized state index\n",
        "\n",
        "        Returns\n",
        "        -------  \n",
        "        done: Bool\n",
        "            the result of termination or collision\n",
        "        \"\"\"\n",
        "        done = None\n",
        "\n",
        "        \n",
        "\n",
        "        ###################################################################\n",
        "        #####################   PLACE YOUR CODE HERE   ####################\n",
        "        ###                                                             ###\n",
        "        ### Instruction                                                 ###\n",
        "        ### -----------                                                 ###\n",
        "        ### - fill out the \"done\" variable                              ###\n",
        "\n",
        "        if state == self.terminal_state:\n",
        "          done = True\n",
        "        elif state in self.obstacles:\n",
        "          done = True\n",
        "        else:\n",
        "          done = False\n",
        "\n",
        "        ###                                                             ###\n",
        "        ###################################################################\n",
        "        ###################################################################\n",
        "\n",
        "        return done \n",
        "\n",
        "    def step(self, action):\n",
        "        \"\"\"\n",
        "        A step function that applies the input action to the environment.\n",
        "\n",
        "        Parameters\n",
        "        ----------        \n",
        "        action: integer\n",
        "            action index         \n",
        "\n",
        "        Returns\n",
        "        -------  \n",
        "        observation: integer\n",
        "            the outcome of the given action (i.e., next state)... s' ~ T(s'|s,a)\n",
        "        reward: float\n",
        "            the reward that would get for ... r(s, a, s')\n",
        "        done: Bool\n",
        "            the result signal of termination or collision\n",
        "        info: Dictionary\n",
        "            Information dictionary containing miscellaneous information...\n",
        "            (Do not need to implement info)\n",
        "\n",
        "        \"\"\"\n",
        "        done = False\n",
        "        action = int(action)\n",
        "        \n",
        "        probs = self.transition_model(self.observation, action)\n",
        "\n",
        "        \n",
        "        \n",
        "\n",
        "        ###################################################################\n",
        "        #####################   PLACE YOUR CODE HERE   ####################\n",
        "        ###                                                             ###\n",
        "        ### Instruction                                                 ###\n",
        "        ### -----------                                                 ###\n",
        "        ### - sample the next state considring the transition model     ###\n",
        "        ### - then, compute \"reward\" and \"done\"                         ###\n",
        "        ###   next_state = ...                                          ###\n",
        "        ###\n",
        "        ### Example                                                     ###\n",
        "        ### -----------                                                 ###\n",
        "        ### next state = ?\n",
        "        ### self.observation = ?\n",
        "        ### reward = self.compute_reward(?, action, self.observation)   ###\n",
        "        ### done = self.is_done(?, action, self.observation)            ###\n",
        "        states = list(range(self.grid_map_shape[0] * self.grid_map_shape[1]))\n",
        "        state_index = np.random.choice(states, p=probs)                         # this numpy function allows us to choose from an array with \n",
        "        reward = self.compute_reward( self.observation, action, state_index)    # uniform distribution by providing the probabilities in the argument p\n",
        "        done = self.is_done(self.observation, action, state_index)\n",
        "        self.observation = state_index #\n",
        "        \n",
        "        ###                                                             ###\n",
        "        ###################################################################\n",
        "        ###################################################################\n",
        "\n",
        "        return (self.observation, reward, done, {})\n",
        "\n",
        "  ##################################################################\n",
        "  ###################                             ##################\n",
        "  ###################  DO NOT MODIFY CODE BELOW   #################\n",
        "  ###################                             ##################\n",
        "  ##################################################################\n",
        "\n",
        "from gym import register\n",
        "if 'Gridworld-v0' in gym.envs.registration.registry.env_specs:\n",
        "    del gym.envs.registration.registry.env_specs['Gridworld-v0']\n",
        "register(\n",
        "    id='Gridworld-v0',\n",
        "    entry_point=GridEnv,\n",
        "    max_episode_steps=30,\n",
        "    reward_threshold=100,\n",
        "    kwargs={'epsilon':0.05, 'size':[8, 10], 'obstacle':[32, 43, 62, 63, 44, 35, 26, 58, 49, 41, 57, 61, 31]}\n",
        ")\n",
        "env = gym.make(\"Gridworld-v0\")\n",
        "\n"
      ]
    },
    {
      "cell_type": "markdown",
      "source": [
        "##(a) Transition model / dynamics\n",
        "\n",
        "Following the problem description on the assignment PDF, implement the transition_model. After implementation, please run the cell below."
      ],
      "metadata": {
        "id": "-Vr04-7W-7Fw"
      }
    },
    {
      "cell_type": "code",
      "source": [
        "def dummy_policy(state):\n",
        "    \"\"\"A dummy random policy\"\"\"\n",
        "    if state > 40:\n",
        "        return np.random.choice([1, 3], 1).item()\n",
        "    else:\n",
        "        return np.random.choice([2, 4], 1).item()\n",
        "\n",
        "# Plot the distribution of the collected trajectories\n",
        "trajs = collect_traj(env, policy=dummy_policy, num_episodes=300)\n",
        "plot_trajs(env, trajs)\n",
        "\n",
        "# Plot the histogram of returns after running a dummy policy\n",
        "returns = eval_policy(env, policy=dummy_policy, num_episodes=100)\n",
        "plt.hist(returns, bins=20)\n",
        "plt.show()"
      ],
      "metadata": {
        "id": "SNr6dtyhA9WA",
        "colab": {
          "base_uri": "https://localhost:8080/",
          "height": 513
        },
        "outputId": "57bc196a-3347-4372-ac14-8f6e8c97ab7b"
      },
      "execution_count": 10,
      "outputs": [
        {
          "output_type": "display_data",
          "data": {
            "text/plain": [
              "<Figure size 432x288 with 1 Axes>"
            ],
            "image/png": "[encoded data removed]"
          },
          "metadata": {
            "needs_background": "light"
          }
        },
        {
          "output_type": "display_data",
          "data": {
            "text/plain": [
              "<Figure size 432x288 with 1 Axes>"
            ],
            "image/png": "[encoded data removed]"
          },
          "metadata": {
            "needs_background": "light"
          }
        }
      ]
    },
    {
      "cell_type": "markdown",
      "source": [
        "Add your code to print out the transition model at a specific coordinate with an action you want. \\\\\n",
        "1) print out the transition probabilities to all the next states given a current state $[3,3]$ and a selected action \"Up\":"
      ],
      "metadata": {
        "id": "dzvyKTbT0rP8"
      }
    },
    {
      "cell_type": "code",
      "source": [
        "a = env.transition_model(env.twod_to_serial([3,3]), 1)\n",
        "print(a)\n"
      ],
      "metadata": {
        "id": "NB1LsQ670pQS",
        "colab": {
          "base_uri": "https://localhost:8080/"
        },
        "outputId": "8622160c-9766-40f5-b94e-6b045d3f8492"
      },
      "execution_count": 11,
      "outputs": [
        {
          "output_type": "stream",
          "name": "stdout",
          "text": [
            "[0.     0.     0.     0.     0.     0.     0.     0.     0.     0.\n",
            " 0.     0.     0.     0.     0.     0.     0.     0.     0.     0.\n",
            " 0.     0.     0.     0.95   0.     0.     0.     0.     0.     0.\n",
            " 0.     0.     0.0125 0.0125 0.0125 0.     0.     0.     0.     0.\n",
            " 0.     0.     0.     0.0125 0.     0.     0.     0.     0.     0.\n",
            " 0.     0.     0.     0.     0.     0.     0.     0.     0.     0.\n",
            " 0.     0.     0.     0.     0.     0.     0.     0.     0.     0.\n",
            " 0.     0.     0.     0.     0.     0.     0.     0.     0.     0.    ]\n"
          ]
        }
      ]
    },
    {
      "cell_type": "markdown",
      "source": [
        "2) Print out the transition probabilities to all the next states given a current state [7,4] and a selected action \"Down\":"
      ],
      "metadata": {
        "id": "U3mOHNAW3_2-"
      }
    },
    {
      "cell_type": "code",
      "source": [
        "a  = env.transition_model(env.twod_to_serial([7,4]), 2)\n",
        "print(a)\n",
        "\n"
      ],
      "metadata": {
        "id": "R4Y1eipc3qec",
        "colab": {
          "base_uri": "https://localhost:8080/"
        },
        "outputId": "1c07da6d-f46e-4a86-b9a5-d92236afe8b6"
      },
      "execution_count": 13,
      "outputs": [
        {
          "output_type": "stream",
          "name": "stdout",
          "text": [
            "[0.     0.     0.     0.     0.     0.     0.     0.     0.     0.\n",
            " 0.     0.     0.     0.     0.     0.     0.     0.     0.     0.\n",
            " 0.     0.     0.     0.     0.     0.     0.     0.     0.     0.\n",
            " 0.     0.     0.     0.     0.     0.     0.     0.     0.     0.\n",
            " 0.     0.     0.     0.     0.     0.     0.     0.     0.     0.\n",
            " 0.     0.     0.     0.     0.     0.     0.     0.     0.     0.\n",
            " 0.     0.     0.     0.     0.0125 0.     0.     0.     0.     0.\n",
            " 0.     0.     0.     0.0125 0.9625 0.0125 0.     0.     0.     0.    ]\n"
          ]
        }
      ]
    },
    {
      "cell_type": "markdown",
      "source": [
        "3) print out the transition probabilities to all the next states given a current state $[4,9]$ and a selected action \"Down\":"
      ],
      "metadata": {
        "id": "q8a_3Dfl4FRe"
      }
    },
    {
      "cell_type": "code",
      "source": [
        "a = env.transition_model(env.twod_to_serial([4,9]), 2)\n",
        "a.reshape(8, 10)\n",
        "print(a)"
      ],
      "metadata": {
        "id": "9VfzdYSS1O8z",
        "colab": {
          "base_uri": "https://localhost:8080/"
        },
        "outputId": "90d44674-e6b4-4331-db8d-67eb61249e00"
      },
      "execution_count": 14,
      "outputs": [
        {
          "output_type": "stream",
          "name": "stdout",
          "text": [
            "[0. 0. 0. 0. 0. 0. 0. 0. 0. 0. 0. 0. 0. 0. 0. 0. 0. 0. 0. 0. 0. 0. 0. 0.\n",
            " 0. 0. 0. 0. 0. 0. 0. 0. 0. 0. 0. 0. 0. 0. 0. 0. 0. 0. 0. 0. 0. 0. 0. 0.\n",
            " 0. 1. 0. 0. 0. 0. 0. 0. 0. 0. 0. 0. 0. 0. 0. 0. 0. 0. 0. 0. 0. 0. 0. 0.\n",
            " 0. 0. 0. 0. 0. 0. 0. 0.]\n"
          ]
        }
      ]
    },
    {
      "cell_type": "markdown",
      "source": [
        "## (b) Environmental Interactions\n",
        "\n",
        "\n",
        "Following the problem description on the assignment PDF, implement ***compute_reward***, ***is_done***, and ***step*** functions. Here, \n",
        "\n",
        "*   ***is_done*** function determines wether the given next_state terminates the episode or not. \n",
        "*   ***step*** function updates its *self.observation* to the next state.\n",
        "\n",
        "After implementation, please run the cell below to see the histogram of returns.\n",
        "\n",
        "\n",
        "\n"
      ],
      "metadata": {
        "id": "ii01UoZFBXLc"
      }
    },
    {
      "cell_type": "code",
      "source": [
        "from gym import register\n",
        "if 'Gridworld-v0' in gym.envs.registration.registry.env_specs:\n",
        "  del gym.envs.registration.registry.env_specs['Gridworld-v0']\n",
        "register(\n",
        "    id='Gridworld-v0',\n",
        "    entry_point=GridEnv,\n",
        "    max_episode_steps=30,\n",
        "    reward_threshold=100,\n",
        "    kwargs={'epsilon':0.05, 'size':[8, 10], 'obstacle':[32, 43, 62, 63, 44, 35, 26, 58, 49,41,57,61,31]}\n",
        ")\n",
        "env = gym.make(\"Gridworld-v0\")\n",
        "\n",
        "trajs = collect_traj(env, policy=dummy_policy, num_episodes=300)\n",
        "plot_trajs(env, trajs)\n",
        "\n",
        "returns = eval_policy(env, policy=dummy_policy, num_episodes=300)\n",
        "plt.hist(returns, bins=20)\n",
        "plt.show()"
      ],
      "metadata": {
        "id": "PbCpR0m66m1v",
        "colab": {
          "base_uri": "https://localhost:8080/",
          "height": 513
        },
        "outputId": "628cc920-809a-4d0b-a116-ebdc7384223d"
      },
      "execution_count": null,
      "outputs": [
        {
          "output_type": "display_data",
          "data": {
            "text/plain": [
              "<Figure size 432x288 with 1 Axes>"
            ],
            "image/png": "[encoded data removed]"
          },
          "metadata": {
            "needs_background": "light"
          }
        },
        {
          "output_type": "display_data",
          "data": {
            "text/plain": [
              "<Figure size 432x288 with 1 Axes>"
            ],
            "image/png": "[encoded data removed]"
          },
          "metadata": {
            "needs_background": "light"
          }
        }
      ]
    },
    {
      "cell_type": "markdown",
      "source": [
        "# Problem 2: Dynamic Programming (DP)"
      ],
      "metadata": {
        "id": "Q0Fj-ogmf-aM"
      }
    },
    {
      "cell_type": "markdown",
      "source": [
        "Great! You can now run an agent to test your MDP implementation."
      ],
      "metadata": {
        "id": "O0Pj9gjjdq3n"
      }
    },
    {
      "cell_type": "code",
      "execution_count": null,
      "metadata": {
        "id": "ronn8mOIxeqr",
        "colab": {
          "base_uri": "https://localhost:8080/",
          "height": 359
        },
        "outputId": "838b6838-9ddf-4098-b80c-8864b572199a"
      },
      "outputs": [
        {
          "output_type": "stream",
          "name": "stdout",
          "text": [
            "Successfully saved 87 frames into Gridworld-v0.mp4!\n"
          ]
        },
        {
          "output_type": "execute_result",
          "data": {
            "text/plain": [
              "<IPython.core.display.HTML object>"
            ],
            "text/html": [
              "\n",
              "    <video width=400 controls>\n",
              "          <source src=\"data:video/mp4;base64,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\" type=\"video/mp4\">\n",
              "    </video>\n",
              "    "
            ]
          },
          "metadata": {},
          "execution_count": 84
        }
      ],
      "source": [
        "# You can save a video of 10 episodes that visualizes the average of the returns \n",
        "# based on the current (dummy) policy.\n",
        "saved_run, returns = save_video_of_model(\"Gridworld-v0\", model=dummy_policy, num_episodes=10)\n",
        "HTML(play_video(saved_run))"
      ]
    },
    {
      "cell_type": "markdown",
      "source": [
        "## (2.1) Value Iteration \n",
        "You implement and analyze the value iteration (VI) algorithm filling out ***value_iteration*** and ***get_action*** functions. Please, check the assignment PDF for more details. \n",
        "\n",
        "* Hint: you may need to implement your own ***arg_max*** function\n",
        "\n",
        "\n"
      ],
      "metadata": {
        "id": "E6N2tAosd84l"
      }
    },
    {
      "cell_type": "code",
      "execution_count": null,
      "metadata": {
        "id": "Q-D-iWHBHT3X"
      },
      "outputs": [],
      "source": [
        "class ValueIteration:\n",
        "    \"\"\"\n",
        "    Value Iteration\n",
        "    \"\"\"\n",
        "    def __init__(self, env,  theta=0.00001, discount_factor=0.9):\n",
        "        \"\"\"\n",
        "        Initialize the VI class\n",
        "\n",
        "        Parameters\n",
        "        ----------        \n",
        "        env: object\n",
        "            an OpenAI Gym compatible environment\n",
        "        theta: float\n",
        "            a max error (termination) threshold \n",
        "        discount_factor: float\n",
        "            discount factor (i.e., gamma)\n",
        "\n",
        "        Returns\n",
        "        -------  \n",
        "        probs: numpy array with a length of {size of state space}\n",
        "            probabilities of transition to the next_state ...                    \n",
        "        \"\"\"      \n",
        "        self.env = env\n",
        "        self.V = np.zeros(env.observation_space.n)\n",
        "        self.discount_factor = discount_factor\n",
        "        self.theta= theta   # Maximum error thresold value\n",
        "    \n",
        "    def value_iteration(self):\n",
        "        \"\"\"\n",
        "        A value iteration function. Until the error bound reaches the threshold \n",
        "        (theta), The value table is updated by the Dynamic Programming \n",
        "        (refer to the lecture)\n",
        "        \"\"\"\n",
        "\n",
        "        errors = []\n",
        "        episode_rewards = []\n",
        "        while True:\n",
        "            max_error = 0\n",
        "            for state in range(env.observation_space.n):\n",
        "\n",
        "\n",
        "            ###################################################################\n",
        "            #####################   PLACE YOUR CODE HERE   ####################\n",
        "            ###                                                             ###\n",
        "            ### Instruction                                                 ###\n",
        "            ### -----------                                                 ###\n",
        "            ### Fill out self.V by using the VI algorithm                   ###      \n",
        "            ###\n",
        "            ### Example                                                     ###\n",
        "            ### -----------                                                 ###\n",
        "            ### Initializations\n",
        "            ### For a in available actions\n",
        "            ###   For s' in available next states\n",
        "            ###     Compute reward(s,a,s'), etc\n",
        "            ###     Compute action value \n",
        "            ### Fill out \"self.V\" at the current state using the action values\n",
        "\n",
        "              # to compute the value we need the current state\n",
        "              state_value = self.V[state]\n",
        "              possible_outputs = np.zeros(env.action_space.n) # we compute the sum for each action and choose the best action\n",
        "              \n",
        "              for i in range(env.action_space.n):\n",
        "                probs = env.transition_model(state, i)\n",
        "                next_state = np.arange(env.observation_space.n)    # all the states are viable for being the next state\n",
        "                for n_state in next_state:\n",
        "                  rewards = env.compute_reward(state, i, n_state)\n",
        "                  possible_outputs[i] += probs[n_state]*(rewards + self.discount_factor *self.V[n_state]) # we multiply with the probabilities to find expectations\n",
        "                  \n",
        "              \n",
        "              self.V[state] = np.max(possible_outputs)    # we update the value of a state to the maximum of the value from each action\n",
        "              max_error = max(max_error, abs(self.V[state] - state_value))   \n",
        "\n",
        "            ###                                                             ###\n",
        "            ###################################################################\n",
        "            ###################################################################\n",
        "            errors.append(max_error)\n",
        "            mean_ep_reward = np.mean( eval_policy(env, policy=self.get_action, num_episodes=10))\n",
        "            episode_rewards.append(mean_ep_reward)\n",
        "\n",
        "            if max_error < self.theta:\n",
        "                break\n",
        "        return episode_rewards, errors\n",
        "\n",
        "    def get_action(self, state):\n",
        "        \"\"\"\n",
        "        Return the best action. \n",
        "        HINT: how do you handle if there are multiple actions with the highest value? #########################################\n",
        "\n",
        "        Parameters\n",
        "        ----------        \n",
        "        state: integer\n",
        "            a serialized state index\n",
        "\n",
        "        Returns\n",
        "        -------  \n",
        "        action: integer\n",
        "            an action index\n",
        "        \"\"\"\n",
        "\n",
        "\n",
        "\n",
        "        \"\"\"\"\"\"\n",
        "\n",
        "\n",
        "\n",
        "        ###################################################################\n",
        "        #####################   PLACE YOUR CODE HERE   ####################\n",
        "        ###                                                             ###\n",
        "        ### Instruction                                                 ###\n",
        "        ### -----------                                                 ###\n",
        "        ### Find the best \"action\" that maximize Q value                ###      \n",
        "        ###                                                             ###  \n",
        "        ### Example                                                     ###\n",
        "        ### -----------                                                 ###\n",
        "        ### Compute Q values when you apply each action                 ###\n",
        "        ### For a in available actions\n",
        "        ###   For s' in next states\n",
        "        ###     Q[a] = ?  \n",
        "        ###\n",
        "        ### action = ?\n",
        "        action = None\n",
        "\n",
        "        values = self.V\n",
        "        possible_outputs = np.zeros(env.action_space.n)           # there are 5 possible output actions\n",
        "    \n",
        "        for i in range(env.action_space.n):\n",
        "          probs = env.transition_model(state, i)                  # we get the transition probability given state and action i\n",
        "          next_state = np.arange(env.observation_space.n)         # then for each state we compute the expected value for the next state\n",
        "          for n_state in next_state:\n",
        "            rewards = env.compute_reward(state, i, n_state)\n",
        "            possible_outputs[i] += probs[n_state]*(rewards + self.discount_factor * self.V[n_state])\n",
        "        \n",
        "        action = np.argmax(possible_outputs)                      # we set the action to the action that results with maximum sum\n",
        "        \n",
        "        ###                                                             ###\n",
        "        ###################################################################\n",
        "        ###################################################################\n",
        "        return action"
      ]
    },
    {
      "cell_type": "markdown",
      "source": [
        "After implementation, you can check your implementation with the following code."
      ],
      "metadata": {
        "id": "9-amthiWoG9e"
      }
    },
    {
      "cell_type": "code",
      "execution_count": null,
      "metadata": {
        "id": "tF8Y1jTj6sD2"
      },
      "outputs": [],
      "source": [
        "##### Codes for the running the policy (Do not Modify) #####\n",
        "env = gym.make(\"Gridworld-v0\")\n",
        "env.epsilon = 0.05\n",
        "vi = ValueIteration(env, discount_factor=0.9)\n",
        "ep_rews, errors = vi.value_iteration()"
      ]
    },
    {
      "cell_type": "markdown",
      "source": [
        "You can check the state values of the first 10 states:"
      ],
      "metadata": {
        "id": "XPrDvLDG8nPb"
      }
    },
    {
      "cell_type": "code",
      "source": [
        "# the values of the first 10 states of the gridworld environment\n",
        "print(vi.V[:10])"
      ],
      "metadata": {
        "id": "qAHA2FXV8zon",
        "colab": {
          "base_uri": "https://localhost:8080/"
        },
        "outputId": "1993596e-dc6c-4dfc-abb0-6b925a5624ad"
      },
      "execution_count": null,
      "outputs": [
        {
          "output_type": "stream",
          "name": "stdout",
          "text": [
            "[12.74268488 12.71299997 14.30472242 16.10238558 18.11066683 20.35399326\n",
            " 22.85975614 25.65825242 23.63684394 21.12189328]\n"
          ]
        }
      ]
    },
    {
      "cell_type": "markdown",
      "source": [
        "You can also overlay the best action at each state and plot the distribution of trajectories produced by the trained VI policy:"
      ],
      "metadata": {
        "id": "B9FLE-H9851Q"
      }
    },
    {
      "cell_type": "code",
      "source": [
        "## 1. Visualize the policy with the video and trajectories plot\n",
        "saved_run, _ = save_video_of_model(\"Gridworld-v0\", vi.get_action)\n",
        "render_value_map_with_action(env, vi.V, vi.get_action)\n",
        "HTML(play_video(saved_run))\n",
        "trajs = collect_traj(env, policy=vi.get_action, num_episodes=100)\n",
        "plot_trajs(env, trajs)"
      ],
      "metadata": {
        "id": "uYaBQzB09Dm0",
        "colab": {
          "base_uri": "https://localhost:8080/",
          "height": 530
        },
        "outputId": "d3e9cafe-3fb0-4180-e283-b1ef3ddf145a"
      },
      "execution_count": null,
      "outputs": [
        {
          "output_type": "stream",
          "name": "stdout",
          "text": [
            "Successfully saved 183 frames into Gridworld-v0.mp4!\n"
          ]
        },
        {
          "output_type": "display_data",
          "data": {
            "text/plain": [
              "<Figure size 432x288 with 1 Axes>"
            ],
            "image/png": "[encoded data removed]"
          },
          "metadata": {
            "needs_background": "light"
          }
        },
        {
          "output_type": "display_data",
          "data": {
            "text/plain": [
              "<Figure size 432x288 with 1 Axes>"
            ],
            "image/png": "[encoded data removed]"
          },
          "metadata": {
            "needs_background": "light"
          }
        }
      ]
    },
    {
      "cell_type": "markdown",
      "source": [
        "You can also plot the expected returns and errors with respect to the number of iterations until convergence:"
      ],
      "metadata": {
        "id": "VvmtJXgi9luH"
      }
    },
    {
      "cell_type": "code",
      "source": [
        "## Plot error and mean episodic rewards per iterations\n",
        "ax = plt.subplot(2,1,1)\n",
        "ax.plot(ep_rews)\n",
        "bx = plt.subplot(2,1,2)\n",
        "bx.plot(errors)\n",
        "ax.set_ylabel('Mean episode rewards')\n",
        "ax.ticklabel_format(axis='x', style='sci', scilimits=(0,0))\n",
        "bx.set_xlabel('Number of iterations')\n",
        "bx.set_ylabel('Errors')\n",
        "labels = [item.get_text() for item in ax.get_xticklabels()]\n",
        "empty_string_labels = ['']*len(labels)\n",
        "ax.set_xticklabels(empty_string_labels)\n",
        "\n",
        "plt.show()"
      ],
      "metadata": {
        "id": "9nSnT23o9Lk9",
        "colab": {
          "base_uri": "https://localhost:8080/",
          "height": 286
        },
        "outputId": "588da3b6-b2d9-498f-e508-14ee8e175597"
      },
      "execution_count": null,
      "outputs": [
        {
          "output_type": "display_data",
          "data": {
            "text/plain": [
              "<Figure size 432x288 with 2 Axes>"
            ],
            "image/png": "[encoded data removed]"
          },
          "metadata": {
            "needs_background": "light"
          }
        }
      ]
    },
    {
      "cell_type": "markdown",
      "source": [
        "## (2.2) Comparison under different transition models\n",
        "\n",
        "Here, you need to vary $\\epsilon$. Get the necessary results when $\\epsilon=0.05$:"
      ],
      "metadata": {
        "id": "g9c9LZNnAnwo"
      }
    },
    {
      "cell_type": "code",
      "source": [
        "from gym import register\n",
        "if 'Gridworld-v0' in gym.envs.registration.registry.env_specs:\n",
        "    del gym.envs.registration.registry.env_specs['Gridworld-v0']\n",
        "register(\n",
        "    id='Gridworld-v0',\n",
        "    entry_point=GridEnv,\n",
        "    max_episode_steps=30,\n",
        "    reward_threshold=100,\n",
        "    kwargs={'epsilon':0.05, 'size':[8, 10], 'obstacle':[32, 43, 62, 63, 44, 35, 26, 58, 49,41,57,61,31]}\n",
        ")                                                       \n",
        "env = gym.make(\"Gridworld-v0\")\n",
        "\n",
        "\n",
        "vi = ValueIteration(env, discount_factor=0.9)\n",
        "ep_rews_005, errors = vi.value_iteration()\n",
        "\n",
        "###################################################################\n",
        "\n",
        "env.epsilon = 0.05\n",
        "render_value_map_with_action(env, vi.V, vi.get_action)\n",
        "trajs = collect_traj(env, policy=vi.get_action, num_episodes=100)\n",
        "plot_trajs(env, trajs)\n",
        "\n",
        "###################################################################\n",
        "#####################   PLACE YOUR CODE HERE   ####################\n",
        "###                                                             ###\n",
        "### 1. plot the expected return                                 ###\n",
        "### 2. Overlay the best action                                  ###\n",
        "### 3. Plot the distribution of trajectories                    ###\n",
        "\n",
        "###################################################################"
      ],
      "metadata": {
        "id": "GQMIJi_SAf-T",
        "colab": {
          "base_uri": "https://localhost:8080/",
          "height": 513
        },
        "outputId": "6dcf5287-936c-4b54-d7cf-da96ed934311"
      },
      "execution_count": 100,
      "outputs": [
        {
          "output_type": "display_data",
          "data": {
            "text/plain": [
              "<Figure size 432x288 with 1 Axes>"
            ],
            "image/png": "[encoded data removed]"
          },
          "metadata": {
            "needs_background": "light"
          }
        },
        {
          "output_type": "display_data",
          "data": {
            "text/plain": [
              "<Figure size 432x288 with 1 Axes>"
            ],
            "image/png": "[encoded data removed]"
          },
          "metadata": {
            "needs_background": "light"
          }
        }
      ]
    },
    {
      "cell_type": "markdown",
      "source": [
        "Get the necessary results when $\\epsilon=0.2$:"
      ],
      "metadata": {
        "id": "MxpQTJ3l_ZLw"
      }
    },
    {
      "cell_type": "code",
      "source": [
        "from gym import register\n",
        "if 'Gridworld-v0' in gym.envs.registration.registry.env_specs:\n",
        "    del gym.envs.registration.registry.env_specs['Gridworld-v0']\n",
        "register(\n",
        "    id='Gridworld-v0',\n",
        "    entry_point=GridEnv,\n",
        "    max_episode_steps=30,\n",
        "    reward_threshold=100,\n",
        "    kwargs={'epsilon':0.2, 'size':[8, 10], 'obstacle':[32, 43, 62, 63, 44, 35, 26, 58, 49,41,57,61,31]}\n",
        ")                                                \n",
        "env = gym.make(\"Gridworld-v0\")\n",
        "\n",
        "vi = ValueIteration(env, discount_factor=0.9)\n",
        "ep_rews_02, errors_02 = vi.value_iteration()\n",
        "###################################################################\n",
        "\n",
        "env.epsilon = 0.2\n",
        "render_value_map_with_action(env, vi.V, vi.get_action)\n",
        "trajs = collect_traj(env, policy=vi.get_action, num_episodes=100)\n",
        "plot_trajs(env, trajs)\n",
        "\n",
        "###################################################################\n",
        "#####################   PLACE YOUR CODE HERE   ####################\n",
        "###                                                             ###\n",
        "### 1. plot the expected return                                 ###\n",
        "### 2. Overlay the best action                                  ###\n",
        "### 3. Plot the distribution of trajectories                    ###\n",
        "\n",
        "###################################################################"
      ],
      "metadata": {
        "id": "otQ4swav_YjV",
        "colab": {
          "base_uri": "https://localhost:8080/",
          "height": 513
        },
        "outputId": "589477bf-33b7-45c1-8aa0-2daea9772cee"
      },
      "execution_count": null,
      "outputs": [
        {
          "output_type": "display_data",
          "data": {
            "text/plain": [
              "<Figure size 432x288 with 1 Axes>"
            ],
            "image/png": "[encoded data removed]"
          },
          "metadata": {
            "needs_background": "light"
          }
        },
        {
          "output_type": "display_data",
          "data": {
            "text/plain": [
              "<Figure size 432x288 with 1 Axes>"
            ],
            "image/png": "[encoded data removed]"
          },
          "metadata": {
            "needs_background": "light"
          }
        }
      ]
    },
    {
      "cell_type": "code",
      "source": [
        "## Plot error and mean episodic rewards per iterations\n",
        "ax = plt.subplot(2,1,1)\n",
        "ax.plot(ep_rews_005)\n",
        "bx = plt.subplot(2,1,2)\n",
        "bx.plot(ep_rews_02)\n",
        "ax.set_ylabel('E = 0. 05')\n",
        "ax.ticklabel_format(axis='x', style='sci', scilimits=(0,0))\n",
        "bx.set_xlabel('Number of iterations')\n",
        "bx.set_ylabel('E = 0. 2')\n",
        "labels = [item.get_text() for item in ax.get_xticklabels()]\n",
        "empty_string_labels = ['']*len(labels)\n",
        "ax.set_xticklabels(empty_string_labels)\n",
        "plt.title(\"Expected returns per E value\")"
      ],
      "metadata": {
        "colab": {
          "base_uri": "https://localhost:8080/",
          "height": 296
        },
        "id": "iVU5uiwV6TUB",
        "outputId": "7bce359b-3b37-43b1-e0c6-c8e301427bc3"
      },
      "execution_count": 101,
      "outputs": [
        {
          "output_type": "execute_result",
          "data": {
            "text/plain": [
              "Text(0.5, 1.0, 'Expected returns per E value')"
            ]
          },
          "metadata": {},
          "execution_count": 101
        },
        {
          "output_type": "display_data",
          "data": {
            "text/plain": [
              "<Figure size 432x288 with 2 Axes>"
            ],
            "image/png": "[encoded data removed]"
          },
          "metadata": {
            "needs_background": "light"
          }
        }
      ]
    },
    {
      "cell_type": "code",
      "source": [],
      "metadata": {
        "id": "hhBYIYjl-M_J"
      },
      "execution_count": null,
      "outputs": []
    }
  ],
  "metadata": {
    "colab": {
      "collapsed_sections": [],
      "provenance": []
    },
    "kernelspec": {
      "display_name": "Python 3",
      "name": "python3"
    },
    "language_info": {
      "name": "python"
    }
  },
  "nbformat": 4,
  "nbformat_minor": 0
}